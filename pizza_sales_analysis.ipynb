{
 "cells": [
  {
   "cell_type": "markdown",
   "id": "42f402aa",
   "metadata": {},
   "source": [
    "# 🍕 Pizza Place Sales Analysis\n",
    "*A data exploration of one year of pizza sales*\n",
    "\n",
    "---\n",
    "\n",
    "## 📋 Overview\n",
    "This notebook analyzes one year of pizza sales from a fictitious pizza place.  \n",
    "We’ll explore revenue trends, bestsellers, sales by day and month, and more.\n",
    "\n",
    "### 📂 Datasets:\n",
    "- `orders.csv` – order ID, date, and time  \n",
    "- `order_details.csv` – line items with order IDs, pizza IDs, and quantities  \n",
    "- `pizzas.csv` – pizza IDs, types, sizes, and prices  \n",
    "- `pizza_types.csv` – pizza names, categories, and ingredients  \n",
    "- `data_dictionary.csv` – description of each dataset\n"
   ]
  },
  {
   "cell_type": "markdown",
   "id": "fbb6428d",
   "metadata": {},
   "source": [
    "## 🔧 Step 1: Import Libraries"
   ]
  },
  {
   "cell_type": "code",
   "execution_count": null,
   "id": "a1f2bcc6",
   "metadata": {},
   "outputs": [],
   "source": [
    "import pandas as pd\n",
    "import numpy as np\n",
    "import matplotlib.pyplot as plt\n",
    "import seaborn as sns\n",
    "\n",
    "# Display settings\n",
    "pd.set_option('display.float_format', lambda x: '%.2f' % x)\n",
    "plt.style.use('seaborn-v0_8')"
   ]
  },
  {
   "cell_type": "markdown",
   "id": "75480dd0",
   "metadata": {},
   "source": [
    "## 📂 Step 2: Load the Data"
   ]
  },
  {
   "cell_type": "code",
   "execution_count": null,
   "id": "5f348fb6",
   "metadata": {},
   "outputs": [],
   "source": [
    "# TODO: Upload and load the CSVs\n",
    "orders = pd.read_csv(\"orders.csv\")\n",
    "order_details = pd.read_csv(\"order_details.csv\")\n",
    "pizzas = pd.read_csv(\"pizzas.csv\")\n",
    "pizza_types = pd.read_csv(\"pizza_types.csv\")\n",
    "\n",
    "# Preview\n",
    "orders.head(), order_details.head(), pizzas.head(), pizza_types.head()"
   ]
  },
  {
   "cell_type": "markdown",
   "id": "8724645b",
   "metadata": {},
   "source": [
    "## 🔗 Step 3: Merge Datasets"
   ]
  },
  {
   "cell_type": "code",
   "execution_count": null,
   "id": "bf01f400",
   "metadata": {},
   "outputs": [],
   "source": [
    "# Join order_details with pizzas\n",
    "order_pizza = pd.merge(order_details, pizzas, on=\"pizza_id\")\n",
    "\n",
    "# Join with orders to get date/time\n",
    "full_data = pd.merge(order_pizza, orders, on=\"order_id\")\n",
    "\n",
    "# Join with pizza_types to get category and name\n",
    "full_data = pd.merge(full_data, pizza_types, on=\"pizza_type_id\")\n",
    "\n",
    "full_data.head()"
   ]
  },
  {
   "cell_type": "markdown",
   "id": "1deb7488",
   "metadata": {},
   "source": [
    "## 📊 Step 4: Clean and Prepare Data"
   ]
  },
  {
   "cell_type": "code",
   "execution_count": null,
   "id": "51896471",
   "metadata": {},
   "outputs": [],
   "source": [
    "# Convert date/time\n",
    "full_data['date'] = pd.to_datetime(full_data['date'])\n",
    "full_data['month'] = full_data['date'].dt.month_name()\n",
    "full_data['day'] = full_data['date'].dt.day_name()\n",
    "full_data['hour'] = pd.to_datetime(full_data['time'], format='%H:%M:%S').dt.hour\n",
    "\n",
    "# Compute line revenue\n",
    "full_data['line_total'] = full_data['price'] * full_data['quantity']\n",
    "\n",
    "full_data.info()"
   ]
  },
  {
   "cell_type": "markdown",
   "id": "816c7c18",
   "metadata": {},
   "source": [
    "## 💰 Step 5: Total Revenue"
   ]
  },
  {
   "cell_type": "code",
   "execution_count": null,
   "id": "c6189fe0",
   "metadata": {},
   "outputs": [],
   "source": [
    "total_revenue = full_data['line_total'].sum()\n",
    "print(\"Total Revenue: $\", round(total_revenue, 2))"
   ]
  },
  {
   "cell_type": "markdown",
   "id": "b7bde40b",
   "metadata": {},
   "source": [
    "## 📦 Step 6: Total Quantity Sold"
   ]
  },
  {
   "cell_type": "code",
   "execution_count": null,
   "id": "ffffd581",
   "metadata": {},
   "outputs": [],
   "source": [
    "total_quantity = full_data['quantity'].sum()\n",
    "print(\"Total Pizzas Sold:\", total_quantity)"
   ]
  },
  {
   "cell_type": "markdown",
   "id": "d68350f2",
   "metadata": {},
   "source": [
    "## 🧾 Step 7: Total Orders"
   ]
  },
  {
   "cell_type": "code",
   "execution_count": null,
   "id": "389529f2",
   "metadata": {},
   "outputs": [],
   "source": [
    "total_orders = orders['order_id'].nunique()\n",
    "print(\"Total Orders:\", total_orders)"
   ]
  },
  {
   "cell_type": "markdown",
   "id": "7cbde0d9",
   "metadata": {},
   "source": [
    "## 🍕 Step 8: Number of Pizza Types Sold"
   ]
  },
  {
   "cell_type": "code",
   "execution_count": null,
   "id": "b2e04fc1",
   "metadata": {},
   "outputs": [],
   "source": [
    "pizza_types_sold = pizza_types['pizza_type_id'].nunique()\n",
    "print(\"Number of Pizza Types:\", pizza_types_sold)"
   ]
  },
  {
   "cell_type": "markdown",
   "id": "59e7cc16",
   "metadata": {},
   "source": [
    "## 💲 Step 9: Average Price of Pizzas"
   ]
  },
  {
   "cell_type": "code",
   "execution_count": null,
   "id": "321e7b9a",
   "metadata": {},
   "outputs": [],
   "source": [
    "avg_price = pizzas['price'].mean()\n",
    "print(\"Average Pizza Price: $\", round(avg_price, 2))"
   ]
  },
  {
   "cell_type": "markdown",
   "id": "ded09843",
   "metadata": {},
   "source": [
    "## 🕒 Step 10: Peak Hours of Sales"
   ]
  },
  {
   "cell_type": "code",
   "execution_count": null,
   "id": "4fc494b4",
   "metadata": {},
   "outputs": [],
   "source": [
    "hourly_sales = full_data.groupby('hour')['line_total'].sum()\n",
    "plt.figure(figsize=(10,5))\n",
    "sns.barplot(x=hourly_sales.index, y=hourly_sales.values)\n",
    "plt.title('Peak Hours of Sales')\n",
    "plt.xlabel('Hour of Day')\n",
    "plt.ylabel('Total Sales ($)')\n",
    "plt.show()"
   ]
  },
  {
   "cell_type": "markdown",
   "id": "dccb06ac",
   "metadata": {},
   "source": [
    "## 📅 Step 11: Sales by Day of the Week"
   ]
  },
  {
   "cell_type": "code",
   "execution_count": null,
   "id": "d10ac4af",
   "metadata": {},
   "outputs": [],
   "source": [
    "day_sales = full_data.groupby('day')['line_total'].sum().sort_values(ascending=False)\n",
    "plt.figure(figsize=(10,5))\n",
    "sns.barplot(x=day_sales.index, y=day_sales.values)\n",
    "plt.title('Sales by Day of the Week')\n",
    "plt.xlabel('Day')\n",
    "plt.ylabel('Total Sales ($)')\n",
    "plt.show()\n",
    "day_sales"
   ]
  },
  {
   "cell_type": "markdown",
   "id": "e6b869c3",
   "metadata": {},
   "source": [
    "## 🏆 Step 12: Top 5 Bestselling Pizzas"
   ]
  },
  {
   "cell_type": "code",
   "execution_count": null,
   "id": "af330532",
   "metadata": {},
   "outputs": [],
   "source": [
    "bestsellers = full_data.groupby('pizza_name')['quantity'].sum().sort_values(ascending=False).head(5)\n",
    "plt.figure(figsize=(10,5))\n",
    "sns.barplot(x=bestsellers.values, y=bestsellers.index)\n",
    "plt.title('Top 5 Bestselling Pizzas')\n",
    "plt.xlabel('Total Quantity Sold')\n",
    "plt.ylabel('Pizza Name')\n",
    "plt.show()\n",
    "bestsellers"
   ]
  },
  {
   "cell_type": "markdown",
   "id": "2c6325ca",
   "metadata": {},
   "source": [
    "## 📆 Step 13: Monthly Sales Trend"
   ]
  },
  {
   "cell_type": "code",
   "execution_count": null,
   "id": "55d9f994",
   "metadata": {},
   "outputs": [],
   "source": [
    "monthly_sales = full_data.groupby('month')['line_total'].sum().reindex([\n",
    "    'January','February','March','April','May','June',\n",
    "    'July','August','September','October','November','December'\n",
    "])\n",
    "\n",
    "plt.figure(figsize=(12,5))\n",
    "sns.lineplot(x=monthly_sales.index, y=monthly_sales.values, marker='o')\n",
    "plt.title('Monthly Sales Trend')\n",
    "plt.xlabel('Month')\n",
    "plt.ylabel('Total Sales ($)')\n",
    "plt.show()\n",
    "monthly_sales"
   ]
  },
  {
   "cell_type": "markdown",
   "id": "2ee16255",
   "metadata": {},
   "source": [
    "## 📉 Step 14: Pizzas That Are Not Doing Well"
   ]
  },
  {
   "cell_type": "code",
   "execution_count": null,
   "id": "c0e55089",
   "metadata": {},
   "outputs": [],
   "source": [
    "low_sellers = full_data.groupby('pizza_name')['quantity'].sum().sort_values().head(10)\n",
    "plt.figure(figsize=(10,5))\n",
    "sns.barplot(x=low_sellers.values, y=low_sellers.index)\n",
    "plt.title('Lowest Selling Pizzas')\n",
    "plt.xlabel('Total Quantity Sold')\n",
    "plt.ylabel('Pizza Name')\n",
    "plt.show()\n",
    "low_sellers"
   ]
  },
  {
   "cell_type": "markdown",
   "id": "802570e7",
   "metadata": {},
   "source": [
    "## 🔍 Step 15: Additional Insights"
   ]
  },
  {
   "cell_type": "code",
   "execution_count": null,
   "id": "1a8123fe",
   "metadata": {},
   "outputs": [],
   "source": [
    "# Consider exploring:\n",
    "# - Average order value\n",
    "# - Sales by category\n",
    "# - Impact of size on revenue\n",
    "# - Seasonal trends\n",
    "# - Underperforming pizzas\n"
   ]
  },
  {
   "cell_type": "markdown",
   "id": "6a01bc19",
   "metadata": {},
   "source": [
    "## 🧠 Conclusion\n",
    "Summarize key findings:\n",
    "- Total revenue and top-selling pizzas  \n",
    "- Busiest days and hours  \n",
    "- Trends across months  \n",
    "- Underperforming items to consider removing\n"
   ]
  }
 ],
 "metadata": {},
 "nbformat": 4,
 "nbformat_minor": 5
}
